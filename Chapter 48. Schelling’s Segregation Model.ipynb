{
 "cells": [
  {
   "cell_type": "markdown",
   "id": "ecb94d57",
   "metadata": {},
   "source": [
    "# Chapter 48: Schelling’s Segregation Model\n"
   ]
  },
  {
   "cell_type": "markdown",
   "id": "ee74cc22",
   "metadata": {},
   "source": [
    "In 1969, Thomas C. Schelling developed a simple but striking model of [racial segregation](https://www.rand.org/content/dam/rand/pubs/research_memoranda/2008/RM6014.pdf). In particular, it shows that relatively mild preference for neighbors of similar race can lead in aggregate to the collapse of mixed neighborhoods, and high levels of segregation.\n",
    "\n",
    "In this lecture, we (in fact you) will build and run a version of Schelling’s model."
   ]
  },
  {
   "cell_type": "markdown",
   "id": "f5525b3b",
   "metadata": {},
   "source": [
    "### 3 The Model"
   ]
  },
  {
   "cell_type": "markdown",
   "id": "cde9ec3f",
   "metadata": {},
   "source": [
    "#### Set-up\n",
    "\n",
    "* Suppose we have two types of people: orange people and green people. we will assume there are 250 of each type.\n",
    "\n",
    "* These agents all live on a single unit square. The location of an agent is just a point $(𝑥,𝑦)$, where $0 < 𝑥,𝑦 < 1$.\n",
    "\n",
    "#### Preferences\n",
    "* We will say that an agent is happy if half or more of her 10 nearest neighbors are of the same type.\n",
    "\n",
    "* An important point here is that agents are not averse to living in mixed areas.\n",
    "\n",
    "#### Behaviour\n",
    "* Initially, agents are mixed together (integrated). In particular, the initial location of each agent is an independent draw from a bivariate uniform distribution on $𝑆 = (0, 1)^2$.\n",
    "\n",
    "* We assume that each agent will stay put if they are happy and move if unhappy. The algorithm for moving is as follows:\n",
    "    1. Draw a random location in $𝑆$;\n",
    "    2. If happy at new location, move there; \n",
    "    3. Else, go to step 1."
   ]
  },
  {
   "cell_type": "markdown",
   "id": "37492e60",
   "metadata": {},
   "source": [
    "### 4 Results"
   ]
  },
  {
   "cell_type": "code",
   "execution_count": 2,
   "id": "dcb7c15e",
   "metadata": {},
   "outputs": [],
   "source": [
    "from random import uniform, seed \n",
    "from math import sqrt\n",
    "import matplotlib.pyplot as plt \n",
    "%matplotlib inline\n",
    "\n",
    "seed(42)       # for reproducible random numbers"
   ]
  },
  {
   "cell_type": "code",
   "execution_count": 4,
   "id": "61f1252d",
   "metadata": {},
   "outputs": [],
   "source": [
    "class Agent:\n",
    "    def __init__(self, type): \n",
    "        self.type = type\n",
    "        self.draw_location() \n",
    "    \n",
    "    def draw_location(self):\n",
    "        self.location = uniform(0, 1), uniform(0, 1)\n",
    "    \n",
    "    def get_distance(self, other):\n",
    "        \"Computes the euclidean distance between self and other agent.\" \n",
    "        a = (self.location[0] - other.location[0])**2\n",
    "        b = (self.location[1] - other.location[1])**2\n",
    "        return sqrt(a + b)\n",
    "\n",
    "    def happy(self, agents):\n",
    "        \"True if sufficient number of nearest neighbors are of the same type.\" \n",
    "        distances = []\n",
    "        # distances is a list of pairs (d, agent), where d is distance from agent to self\n",
    "        for agent in agents:\n",
    "            if self != agent:\n",
    "                distance = self.get_distance(agent) \n",
    "                distances.append((distance, agent))\n",
    "        \n",
    "        # == Sort from smallest to largest, according to distance == #\n",
    "        distances.sort()\n",
    "        # == Extract the neighboring agents == #\n",
    "        neighbors = [agent for d, agent in distances[:num_neighbors]]\n",
    "        # == Count how many neighbors have the same type as self == # \n",
    "        num_same_type = sum(self.type == agent.type for agent in neighbors) \n",
    "        \n",
    "        return num_same_type >= require_same_type\n",
    "    \n",
    "    def update(self, agents):\n",
    "        \"If not happy, then randomly choose new locations until happy.\" \n",
    "        while not self.happy(agents):\n",
    "            self.draw_location()\n"
   ]
  },
  {
   "cell_type": "code",
   "execution_count": 5,
   "id": "5f8055ed",
   "metadata": {},
   "outputs": [],
   "source": [
    "def plot_distribution(agents, cycle_num):\n",
    "    \"Plot the distribution of agents after cycle_num rounds of the loop.\" \n",
    "    x_values_0, y_values_0 = [], []\n",
    "    x_values_1, y_values_1 = [], []\n",
    "\n",
    "    # == Obtain locations of each type == #\n",
    "    for agent in agents:\n",
    "        x, y = agent.location \n",
    "        if agent.type == 0:\n",
    "            x_values_0.append(x)\n",
    "            y_values_0.append(y) \n",
    "        else:\n",
    "            x_values_1.append(x)\n",
    "            y_values_1.append(y)\n",
    "    fig, ax = plt.subplots(figsize=(8, 8))\n",
    "    plot_args = {'markersize': 8, 'alpha': 0.6}\n",
    "    ax.set_facecolor('azure')\n",
    "    ax.plot(x_values_0, y_values_0, 'o', markerfacecolor='orange',  **plot_args)\n",
    "    ax.plot(x_values_1, y_values_1, 'o', markerfacecolor='green', **plot_args)\n",
    "    ax.set_title(f'Cycle {cycle_num-1}')\n",
    "    plt.show()\n"
   ]
  },
  {
   "cell_type": "code",
   "execution_count": null,
   "id": "bd1172f5",
   "metadata": {},
   "outputs": [],
   "source": [
    "# == Main == #\n",
    "num_of_type_0 = 250\n",
    "num_of_type_1 = 250\n",
    "num_neighbors = 10   # Number of agents regarded as neighbors\n",
    "require_same_type = 5    # Want at least this many neighbors to be same type\n",
    "\n",
    "# == Create a list of agents == #\n",
    "agents = [Agent(0) for i in range(num_of_type_0)] \n",
    "agents.extend(Agent(1) for i in range(num_of_type_1))\n",
    "\n",
    "count = 1\n",
    "# == Loop until none wishes to move == # \n",
    "while True:\n",
    "    print('Entering loop ', count) \n",
    "    plot_distribution(agents, count) \n",
    "    count += 1\n",
    "    no_one_moved = True\n",
    "    for agent in agents:\n",
    "        old_location = agent.location \n",
    "        agent.update(agents)\n",
    "        if agent.location != old_location:\n",
    "            no_one_moved = False \n",
    "    if no_one_moved:\n",
    "                break\n",
    "        print('Converged, terminating.')"
   ]
  },
  {
   "cell_type": "code",
   "execution_count": null,
   "id": "ba392ab2",
   "metadata": {},
   "outputs": [],
   "source": []
  },
  {
   "cell_type": "code",
   "execution_count": null,
   "id": "359030f9",
   "metadata": {},
   "outputs": [],
   "source": []
  }
 ],
 "metadata": {
  "kernelspec": {
   "display_name": "Python 3 (ipykernel)",
   "language": "python",
   "name": "python3"
  },
  "language_info": {
   "codemirror_mode": {
    "name": "ipython",
    "version": 3
   },
   "file_extension": ".py",
   "mimetype": "text/x-python",
   "name": "python",
   "nbconvert_exporter": "python",
   "pygments_lexer": "ipython3",
   "version": "3.9.7"
  }
 },
 "nbformat": 4,
 "nbformat_minor": 5
}
